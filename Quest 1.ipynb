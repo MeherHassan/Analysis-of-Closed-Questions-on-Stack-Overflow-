{
 "cells": [
  {
   "cell_type": "code",
   "execution_count": 1,
   "metadata": {},
   "outputs": [
    {
     "name": "stderr",
     "output_type": "stream",
     "text": [
      "C:\\Users\\RAMBO\\anaconda3\\lib\\site-packages\\IPython\\core\\interactiveshell.py:3146: DtypeWarning: Columns (15) have mixed types.Specify dtype option on import or set low_memory=False.\n",
      "  has_raised = await self.run_ast_nodes(code_ast.body, cell_name,\n"
     ]
    },
    {
     "data": {
      "text/html": [
       "<div>\n",
       "<style scoped>\n",
       "    .dataframe tbody tr th:only-of-type {\n",
       "        vertical-align: middle;\n",
       "    }\n",
       "\n",
       "    .dataframe tbody tr th {\n",
       "        vertical-align: top;\n",
       "    }\n",
       "\n",
       "    .dataframe thead th {\n",
       "        text-align: right;\n",
       "    }\n",
       "</style>\n",
       "<table border=\"1\" class=\"dataframe\">\n",
       "  <thead>\n",
       "    <tr style=\"text-align: right;\">\n",
       "      <th></th>\n",
       "      <th>Unnamed: 0</th>\n",
       "      <th>Id</th>\n",
       "      <th>PostTypeId</th>\n",
       "      <th>AcceptedAnswerId</th>\n",
       "      <th>ParentId</th>\n",
       "      <th>CreationDate</th>\n",
       "      <th>Body</th>\n",
       "      <th>OwnerUserId</th>\n",
       "      <th>OwnerDisplayName</th>\n",
       "      <th>Title</th>\n",
       "      <th>Tags</th>\n",
       "      <th>AnswerCount</th>\n",
       "      <th>CommentCount</th>\n",
       "      <th>FavoriteCount</th>\n",
       "      <th>ClosedDate</th>\n",
       "      <th>CommunityOwnedDate</th>\n",
       "      <th>Year</th>\n",
       "    </tr>\n",
       "  </thead>\n",
       "  <tbody>\n",
       "    <tr>\n",
       "      <th>0</th>\n",
       "      <td>0</td>\n",
       "      <td>72</td>\n",
       "      <td>1</td>\n",
       "      <td>-999</td>\n",
       "      <td>-999</td>\n",
       "      <td>2008-08-01T13:38:27.133</td>\n",
       "      <td>&lt;p&gt;I want to format my existing comments as 'R...</td>\n",
       "      <td>25</td>\n",
       "      <td>NaN</td>\n",
       "      <td>How do I add existing comments to RDoc in Ruby?</td>\n",
       "      <td>&lt;ruby&gt;&lt;rdoc&gt;</td>\n",
       "      <td>2</td>\n",
       "      <td>1</td>\n",
       "      <td>1</td>\n",
       "      <td>2017-04-20 07:24:44.697</td>\n",
       "      <td>NaN</td>\n",
       "      <td>2017</td>\n",
       "    </tr>\n",
       "    <tr>\n",
       "      <th>1</th>\n",
       "      <td>1</td>\n",
       "      <td>85</td>\n",
       "      <td>1</td>\n",
       "      <td>154</td>\n",
       "      <td>-999</td>\n",
       "      <td>2008-08-01T14:19:52.510</td>\n",
       "      <td>&lt;p&gt;What are the best practices around creating...</td>\n",
       "      <td>59</td>\n",
       "      <td>NaN</td>\n",
       "      <td>Flat file databases</td>\n",
       "      <td>&lt;php&gt;&lt;sql&gt;&lt;database&gt;&lt;flat-file&gt;</td>\n",
       "      <td>12</td>\n",
       "      <td>1</td>\n",
       "      <td>22</td>\n",
       "      <td>2015-10-22 13:43:51.340</td>\n",
       "      <td>NaN</td>\n",
       "      <td>2015</td>\n",
       "    </tr>\n",
       "    <tr>\n",
       "      <th>2</th>\n",
       "      <td>2</td>\n",
       "      <td>90</td>\n",
       "      <td>1</td>\n",
       "      <td>1466832</td>\n",
       "      <td>-999</td>\n",
       "      <td>2008-08-01T14:41:24.277</td>\n",
       "      <td>&lt;p&gt;How do you &lt;a href=\"http://svnbook.red-bean...</td>\n",
       "      <td>58</td>\n",
       "      <td>Christopher McCulloh</td>\n",
       "      <td>How do you branch and merge with TortoiseSVN?</td>\n",
       "      <td>&lt;svn&gt;&lt;tortoisesvn&gt;&lt;branch&gt;&lt;branching-and-merging&gt;</td>\n",
       "      <td>3</td>\n",
       "      <td>0</td>\n",
       "      <td>91</td>\n",
       "      <td>2012-12-26 03:45:49.847</td>\n",
       "      <td>NaN</td>\n",
       "      <td>2012</td>\n",
       "    </tr>\n",
       "    <tr>\n",
       "      <th>3</th>\n",
       "      <td>3</td>\n",
       "      <td>108</td>\n",
       "      <td>1</td>\n",
       "      <td>111</td>\n",
       "      <td>-999</td>\n",
       "      <td>2008-08-01T15:22:29.467</td>\n",
       "      <td>&lt;p&gt;I've been using &lt;a href=\"http://tortoisesvn...</td>\n",
       "      <td>72</td>\n",
       "      <td>NaN</td>\n",
       "      <td>Best Subversion clients for Windows Vista (64bit)</td>\n",
       "      <td>&lt;windows&gt;&lt;svn&gt;&lt;64bit&gt;</td>\n",
       "      <td>8</td>\n",
       "      <td>0</td>\n",
       "      <td>2</td>\n",
       "      <td>2012-08-15 19:45:13.350</td>\n",
       "      <td>NaN</td>\n",
       "      <td>2012</td>\n",
       "    </tr>\n",
       "    <tr>\n",
       "      <th>4</th>\n",
       "      <td>4</td>\n",
       "      <td>126</td>\n",
       "      <td>1</td>\n",
       "      <td>127</td>\n",
       "      <td>-999</td>\n",
       "      <td>2008-08-01T16:10:30.337</td>\n",
       "      <td>&lt;p&gt;What is the \"purist\" or \"correct\" way to ac...</td>\n",
       "      <td>58</td>\n",
       "      <td>NaN</td>\n",
       "      <td>How would you access Object properties from wi...</td>\n",
       "      <td>&lt;java&gt;&lt;php&gt;&lt;oop&gt;&lt;theory&gt;</td>\n",
       "      <td>18</td>\n",
       "      <td>0</td>\n",
       "      <td>4</td>\n",
       "      <td>2012-05-08 18:11:27.270</td>\n",
       "      <td>NaN</td>\n",
       "      <td>2012</td>\n",
       "    </tr>\n",
       "  </tbody>\n",
       "</table>\n",
       "</div>"
      ],
      "text/plain": [
       "   Unnamed: 0   Id  PostTypeId  AcceptedAnswerId  ParentId  \\\n",
       "0           0   72           1              -999      -999   \n",
       "1           1   85           1               154      -999   \n",
       "2           2   90           1           1466832      -999   \n",
       "3           3  108           1               111      -999   \n",
       "4           4  126           1               127      -999   \n",
       "\n",
       "              CreationDate                                               Body  \\\n",
       "0  2008-08-01T13:38:27.133  <p>I want to format my existing comments as 'R...   \n",
       "1  2008-08-01T14:19:52.510  <p>What are the best practices around creating...   \n",
       "2  2008-08-01T14:41:24.277  <p>How do you <a href=\"http://svnbook.red-bean...   \n",
       "3  2008-08-01T15:22:29.467  <p>I've been using <a href=\"http://tortoisesvn...   \n",
       "4  2008-08-01T16:10:30.337  <p>What is the \"purist\" or \"correct\" way to ac...   \n",
       "\n",
       "   OwnerUserId      OwnerDisplayName  \\\n",
       "0           25                   NaN   \n",
       "1           59                   NaN   \n",
       "2           58  Christopher McCulloh   \n",
       "3           72                   NaN   \n",
       "4           58                   NaN   \n",
       "\n",
       "                                               Title  \\\n",
       "0    How do I add existing comments to RDoc in Ruby?   \n",
       "1                                Flat file databases   \n",
       "2      How do you branch and merge with TortoiseSVN?   \n",
       "3  Best Subversion clients for Windows Vista (64bit)   \n",
       "4  How would you access Object properties from wi...   \n",
       "\n",
       "                                                Tags  AnswerCount  \\\n",
       "0                                       <ruby><rdoc>            2   \n",
       "1                    <php><sql><database><flat-file>           12   \n",
       "2  <svn><tortoisesvn><branch><branching-and-merging>            3   \n",
       "3                              <windows><svn><64bit>            8   \n",
       "4                           <java><php><oop><theory>           18   \n",
       "\n",
       "   CommentCount  FavoriteCount              ClosedDate CommunityOwnedDate  \\\n",
       "0             1              1 2017-04-20 07:24:44.697                NaN   \n",
       "1             1             22 2015-10-22 13:43:51.340                NaN   \n",
       "2             0             91 2012-12-26 03:45:49.847                NaN   \n",
       "3             0              2 2012-08-15 19:45:13.350                NaN   \n",
       "4             0              4 2012-05-08 18:11:27.270                NaN   \n",
       "\n",
       "   Year  \n",
       "0  2017  \n",
       "1  2015  \n",
       "2  2012  \n",
       "3  2012  \n",
       "4  2012  "
      ]
     },
     "execution_count": 1,
     "metadata": {},
     "output_type": "execute_result"
    }
   ],
   "source": [
    "import pandas as pd\n",
    "df = pd.read_csv('posts.csv') \n",
    "#df.head(20) \n",
    "df['ClosedDate'] = pd.to_datetime(df['ClosedDate'])\n",
    "\n",
    "df['Year'] = df['ClosedDate'].dt.year\n",
    "\n",
    "df.head(5)\n"
   ]
  },
  {
   "cell_type": "markdown",
   "metadata": {},
   "source": [
    "## Closed Questions Ratio"
   ]
  },
  {
   "cell_type": "code",
   "execution_count": 2,
   "metadata": {
    "scrolled": false
   },
   "outputs": [
    {
     "data": {
      "text/plain": [
       "2008     0.024289\n",
       "2009     0.146415\n",
       "2010     0.765508\n",
       "2011     3.459794\n",
       "2012     9.220342\n",
       "2013    15.210542\n",
       "2014    16.404925\n",
       "2015    13.302777\n",
       "2016    14.719171\n",
       "2017    14.988667\n",
       "2018    11.757570\n",
       "Name: Year, dtype: float64"
      ]
     },
     "execution_count": 2,
     "metadata": {},
     "output_type": "execute_result"
    }
   ],
   "source": [
    "df['Year'].value_counts(normalize=True).sort_index(ascending=True)*100"
   ]
  },
  {
   "cell_type": "code",
   "execution_count": 3,
   "metadata": {},
   "outputs": [
    {
     "data": {
      "text/plain": [
       "2014    120223\n",
       "2013    111470\n",
       "2017    109844\n",
       "2016    107869\n",
       "2015     97489\n",
       "2018     86165\n",
       "2012     67571\n",
       "2011     25355\n",
       "2010      5610\n",
       "2009      1073\n",
       "2008       178\n",
       "Name: Year, dtype: int64"
      ]
     },
     "execution_count": 3,
     "metadata": {},
     "output_type": "execute_result"
    }
   ],
   "source": [
    "df['Year'].value_counts()"
   ]
  },
  {
   "cell_type": "code",
   "execution_count": 4,
   "metadata": {},
   "outputs": [
    {
     "data": {
      "text/plain": [
       "5.1166176076319845"
      ]
     },
     "execution_count": 4,
     "metadata": {},
     "output_type": "execute_result"
    }
   ],
   "source": [
    "total = (732847/14322880)*100\n",
    "total"
   ]
  },
  {
   "cell_type": "code",
   "execution_count": 18,
   "metadata": {},
   "outputs": [
    {
     "data": {
      "text/html": [
       "<div>\n",
       "<style scoped>\n",
       "    .dataframe tbody tr th:only-of-type {\n",
       "        vertical-align: middle;\n",
       "    }\n",
       "\n",
       "    .dataframe tbody tr th {\n",
       "        vertical-align: top;\n",
       "    }\n",
       "\n",
       "    .dataframe thead th {\n",
       "        text-align: right;\n",
       "    }\n",
       "</style>\n",
       "<table border=\"1\" class=\"dataframe\">\n",
       "  <thead>\n",
       "    <tr style=\"text-align: right;\">\n",
       "      <th></th>\n",
       "      <th>VoteTypeId</th>\n",
       "      <th>CreationDate_y</th>\n",
       "    </tr>\n",
       "  </thead>\n",
       "  <tbody>\n",
       "    <tr>\n",
       "      <th>0</th>\n",
       "      <td>2</td>\n",
       "      <td>2008-08-06T21:14:57.507</td>\n",
       "    </tr>\n",
       "    <tr>\n",
       "      <th>1</th>\n",
       "      <td>2</td>\n",
       "      <td>2008-08-10T08:08:21.657</td>\n",
       "    </tr>\n",
       "    <tr>\n",
       "      <th>2</th>\n",
       "      <td>2</td>\n",
       "      <td>2008-08-10T17:50:11.467</td>\n",
       "    </tr>\n",
       "    <tr>\n",
       "      <th>3</th>\n",
       "      <td>2</td>\n",
       "      <td>2008-08-10T21:58:24.913</td>\n",
       "    </tr>\n",
       "    <tr>\n",
       "      <th>4</th>\n",
       "      <td>2</td>\n",
       "      <td>2008-08-12T05:24:36.307</td>\n",
       "    </tr>\n",
       "  </tbody>\n",
       "</table>\n",
       "</div>"
      ],
      "text/plain": [
       "   VoteTypeId           CreationDate_y\n",
       "0           2  2008-08-06T21:14:57.507\n",
       "1           2  2008-08-10T08:08:21.657\n",
       "2           2  2008-08-10T17:50:11.467\n",
       "3           2  2008-08-10T21:58:24.913\n",
       "4           2  2008-08-12T05:24:36.307"
      ]
     },
     "execution_count": 18,
     "metadata": {},
     "output_type": "execute_result"
    }
   ],
   "source": [
    "\n",
    "df1 = pd.read_csv('Votes.csv')\n",
    "df2 = pd.read_csv('PostHistory.csv')\n",
    "dfinal = df1.merge(df2, on=\"Id\")\n",
    "dfinal = dfinal[['VoteTypeId', 'CreationDate_y']]\n",
    "dfinal.head(5)"
   ]
  },
  {
   "cell_type": "code",
   "execution_count": 19,
   "metadata": {},
   "outputs": [
    {
     "data": {
      "text/html": [
       "<div>\n",
       "<style scoped>\n",
       "    .dataframe tbody tr th:only-of-type {\n",
       "        vertical-align: middle;\n",
       "    }\n",
       "\n",
       "    .dataframe tbody tr th {\n",
       "        vertical-align: top;\n",
       "    }\n",
       "\n",
       "    .dataframe thead th {\n",
       "        text-align: right;\n",
       "    }\n",
       "</style>\n",
       "<table border=\"1\" class=\"dataframe\">\n",
       "  <thead>\n",
       "    <tr style=\"text-align: right;\">\n",
       "      <th></th>\n",
       "      <th>VoteTypeId</th>\n",
       "      <th>CreationDate_y</th>\n",
       "    </tr>\n",
       "  </thead>\n",
       "  <tbody>\n",
       "    <tr>\n",
       "      <th>256</th>\n",
       "      <td>5</td>\n",
       "      <td>2008-11-10T16:10:54.707</td>\n",
       "    </tr>\n",
       "    <tr>\n",
       "      <th>257</th>\n",
       "      <td>5</td>\n",
       "      <td>2008-11-10T17:49:44.727</td>\n",
       "    </tr>\n",
       "    <tr>\n",
       "      <th>258</th>\n",
       "      <td>5</td>\n",
       "      <td>2008-11-10T01:35:00.840</td>\n",
       "    </tr>\n",
       "    <tr>\n",
       "      <th>260</th>\n",
       "      <td>5</td>\n",
       "      <td>2008-11-11T09:23:55.963</td>\n",
       "    </tr>\n",
       "    <tr>\n",
       "      <th>262</th>\n",
       "      <td>5</td>\n",
       "      <td>2008-11-11T21:04:31.650</td>\n",
       "    </tr>\n",
       "  </tbody>\n",
       "</table>\n",
       "</div>"
      ],
      "text/plain": [
       "     VoteTypeId           CreationDate_y\n",
       "256           5  2008-11-10T16:10:54.707\n",
       "257           5  2008-11-10T17:49:44.727\n",
       "258           5  2008-11-10T01:35:00.840\n",
       "260           5  2008-11-11T09:23:55.963\n",
       "262           5  2008-11-11T21:04:31.650"
      ]
     },
     "execution_count": 19,
     "metadata": {},
     "output_type": "execute_result"
    }
   ],
   "source": [
    "dfinal = dfinal[dfinal['VoteTypeId'] == 5]\n",
    "dfinal.head(5)"
   ]
  },
  {
   "cell_type": "code",
   "execution_count": 20,
   "metadata": {},
   "outputs": [
    {
     "data": {
      "text/html": [
       "<div>\n",
       "<style scoped>\n",
       "    .dataframe tbody tr th:only-of-type {\n",
       "        vertical-align: middle;\n",
       "    }\n",
       "\n",
       "    .dataframe tbody tr th {\n",
       "        vertical-align: top;\n",
       "    }\n",
       "\n",
       "    .dataframe thead th {\n",
       "        text-align: right;\n",
       "    }\n",
       "</style>\n",
       "<table border=\"1\" class=\"dataframe\">\n",
       "  <thead>\n",
       "    <tr style=\"text-align: right;\">\n",
       "      <th></th>\n",
       "      <th>VoteTypeId</th>\n",
       "      <th>CreationDate_y</th>\n",
       "      <th>Year</th>\n",
       "    </tr>\n",
       "  </thead>\n",
       "  <tbody>\n",
       "    <tr>\n",
       "      <th>256</th>\n",
       "      <td>5</td>\n",
       "      <td>2008-11-10 16:10:54.707</td>\n",
       "      <td>2008</td>\n",
       "    </tr>\n",
       "    <tr>\n",
       "      <th>257</th>\n",
       "      <td>5</td>\n",
       "      <td>2008-11-10 17:49:44.727</td>\n",
       "      <td>2008</td>\n",
       "    </tr>\n",
       "    <tr>\n",
       "      <th>258</th>\n",
       "      <td>5</td>\n",
       "      <td>2008-11-10 01:35:00.840</td>\n",
       "      <td>2008</td>\n",
       "    </tr>\n",
       "    <tr>\n",
       "      <th>260</th>\n",
       "      <td>5</td>\n",
       "      <td>2008-11-11 09:23:55.963</td>\n",
       "      <td>2008</td>\n",
       "    </tr>\n",
       "    <tr>\n",
       "      <th>262</th>\n",
       "      <td>5</td>\n",
       "      <td>2008-11-11 21:04:31.650</td>\n",
       "      <td>2008</td>\n",
       "    </tr>\n",
       "  </tbody>\n",
       "</table>\n",
       "</div>"
      ],
      "text/plain": [
       "     VoteTypeId          CreationDate_y  Year\n",
       "256           5 2008-11-10 16:10:54.707  2008\n",
       "257           5 2008-11-10 17:49:44.727  2008\n",
       "258           5 2008-11-10 01:35:00.840  2008\n",
       "260           5 2008-11-11 09:23:55.963  2008\n",
       "262           5 2008-11-11 21:04:31.650  2008"
      ]
     },
     "execution_count": 20,
     "metadata": {},
     "output_type": "execute_result"
    }
   ],
   "source": [
    "dfinal['CreationDate_y'] = pd.to_datetime(dfinal['CreationDate_y'])\n",
    "\n",
    "dfinal['Year'] = dfinal['CreationDate_y'].dt.year\n",
    "dfinal.head(5)"
   ]
  },
  {
   "cell_type": "code",
   "execution_count": 21,
   "metadata": {},
   "outputs": [
    {
     "data": {
      "text/plain": [
       "2008     0.501238\n",
       "2009     2.617574\n",
       "2010     3.570545\n",
       "2011     7.029703\n",
       "2012    10.717822\n",
       "2013    16.930693\n",
       "2014    16.373762\n",
       "2015    11.200495\n",
       "2016    11.435644\n",
       "2017    11.998762\n",
       "2018     7.623762\n",
       "Name: Year, dtype: float64"
      ]
     },
     "execution_count": 21,
     "metadata": {},
     "output_type": "execute_result"
    }
   ],
   "source": [
    "dfinal['Year'].value_counts(normalize=True).sort_index(ascending=True)*100"
   ]
  },
  {
   "cell_type": "code",
   "execution_count": 23,
   "metadata": {},
   "outputs": [
    {
     "data": {
      "text/plain": [
       "2008      81\n",
       "2009     423\n",
       "2010     577\n",
       "2011    1136\n",
       "2012    1732\n",
       "2013    2736\n",
       "2014    2646\n",
       "2015    1810\n",
       "2016    1848\n",
       "2017    1939\n",
       "2018    1232\n",
       "Name: Year, dtype: int64"
      ]
     },
     "execution_count": 23,
     "metadata": {},
     "output_type": "execute_result"
    }
   ],
   "source": [
    "dfinal['Year'].value_counts().sort_index(ascending=True)"
   ]
  },
  {
   "cell_type": "code",
   "execution_count": 10,
   "metadata": {},
   "outputs": [
    {
     "data": {
      "image/png": "[encoded data removed]",
      "text/plain": [
       "<Figure size 432x288 with 1 Axes>"
      ]
     },
     "metadata": {
      "needs_background": "light"
     },
     "output_type": "display_data"
    }
   ],
   "source": [
    "import pandas as pd\n",
    "import matplotlib.pyplot as plt\n",
    "\n",
    "fig, ax =plt.subplots()\n",
    "data=[[0.024289,0.146415,0.765508,\n",
    "      3.459794,9.220342,15.210542,\n",
    "      16.404925,13.302777,14.719171,14.988667,11.757570,\"732847\\n(5.11%)\"]]\n",
    "\n",
    "column_labels=[\"2008\", \"2009\", \"2010\", \"2011\", \"2012\", \"2013\", \"2014\", \"2015\", \"2016\", \"2017\", \"2018\",\"Total\"]\n",
    "df=pd.DataFrame(data,columns=column_labels)\n",
    "ax.axis('tight')\n",
    "ax.axis('off')\n",
    "table=ax.table(cellText=df.values,colLabels=df.columns,rowLabels=[\"Closed\\nQuestions\"],loc=\"center\")\n",
    "table.set_fontsize(20)\n",
    "table.scale(3, 3)\n",
    "plt.show()"
   ]
  },
  {
   "cell_type": "code",
   "execution_count": 27,
   "metadata": {},
   "outputs": [
    {
     "data": {
      "image/png": "[encoded data removed]",
      "text/plain": [
       "<Figure size 432x288 with 1 Axes>"
      ]
     },
     "metadata": {
      "needs_background": "light"
     },
     "output_type": "display_data"
    }
   ],
   "source": [
    "import pandas as pd\n",
    "import matplotlib.pyplot as plt\n",
    "\n",
    "fig, ax =plt.subplots()\n",
    "data=[[0.501238,2.617574,3.570545,7.02970,10.717822,16.930693,16.373762,11.200495,11.435644,11.998762,7.623762,16160]]\n",
    "\n",
    "column_labels=[\"2008\", \"2009\", \"2010\", \"2011\", \"2012\", \"2013\", \"2014\", \"2015\", \"2016\", \"2017\", \"2018\",\"Total\"]\n",
    "df=pd.DataFrame(data,columns=column_labels)\n",
    "ax.axis('tight')\n",
    "ax.axis('off')\n",
    "table=ax.table(cellText=df.values,colLabels=df.columns,rowLabels=[\"Closed votes\"],loc=\"center\")\n",
    "table.set_fontsize(30)\n",
    "table.scale(3,3)\n",
    "plt.show()"
   ]
  },
  {
   "cell_type": "code",
   "execution_count": 12,
   "metadata": {},
   "outputs": [
    {
     "data": {
      "text/html": [
       "<div>\n",
       "<style scoped>\n",
       "    .dataframe tbody tr th:only-of-type {\n",
       "        vertical-align: middle;\n",
       "    }\n",
       "\n",
       "    .dataframe tbody tr th {\n",
       "        vertical-align: top;\n",
       "    }\n",
       "\n",
       "    .dataframe thead th {\n",
       "        text-align: right;\n",
       "    }\n",
       "</style>\n",
       "<table border=\"1\" class=\"dataframe\">\n",
       "  <thead>\n",
       "    <tr style=\"text-align: right;\">\n",
       "      <th></th>\n",
       "      <th>Unnamed: 0</th>\n",
       "      <th>Id</th>\n",
       "      <th>PostHistoryTypeId</th>\n",
       "      <th>PostId</th>\n",
       "      <th>RevisionGUID</th>\n",
       "      <th>CreationDate</th>\n",
       "      <th>UserId</th>\n",
       "      <th>UserDisplayName</th>\n",
       "      <th>Comment</th>\n",
       "      <th>Text</th>\n",
       "    </tr>\n",
       "  </thead>\n",
       "  <tbody>\n",
       "    <tr>\n",
       "      <th>33047</th>\n",
       "      <td>33047</td>\n",
       "      <td>1259878</td>\n",
       "      <td>10</td>\n",
       "      <td>96463</td>\n",
       "      <td>acf21790-d5cf-4111-b43a-0fc252c68e53</td>\n",
       "      <td>2008-10-22T05:30:23.000</td>\n",
       "      <td>-1</td>\n",
       "      <td>NaN</td>\n",
       "      <td>2</td>\n",
       "      <td>{\"Voters\":[{\"Id\":13281,\"DisplayName\":\"user1328...</td>\n",
       "    </tr>\n",
       "    <tr>\n",
       "      <th>33048</th>\n",
       "      <td>33048</td>\n",
       "      <td>1259896</td>\n",
       "      <td>10</td>\n",
       "      <td>101974</td>\n",
       "      <td>427a2219-6744-40fd-bba8-347457cfb23f</td>\n",
       "      <td>2008-09-26T18:19:33.000</td>\n",
       "      <td>-1</td>\n",
       "      <td>NaN</td>\n",
       "      <td>2</td>\n",
       "      <td>{\"Voters\":[{\"Id\":7595,\"DisplayName\":\"user7595\"}]}</td>\n",
       "    </tr>\n",
       "    <tr>\n",
       "      <th>33049</th>\n",
       "      <td>33049</td>\n",
       "      <td>1259916</td>\n",
       "      <td>10</td>\n",
       "      <td>113013</td>\n",
       "      <td>fc2883cb-c2b3-4772-ba4d-5b7dd8ae0056</td>\n",
       "      <td>2008-12-27T06:18:31.000</td>\n",
       "      <td>-1</td>\n",
       "      <td>NaN</td>\n",
       "      <td>2</td>\n",
       "      <td>{\"Voters\":[{\"Id\":19377,\"DisplayName\":\"user1937...</td>\n",
       "    </tr>\n",
       "    <tr>\n",
       "      <th>33050</th>\n",
       "      <td>33050</td>\n",
       "      <td>1259922</td>\n",
       "      <td>10</td>\n",
       "      <td>116523</td>\n",
       "      <td>65207d94-b481-41f6-abfb-0078ffdc3624</td>\n",
       "      <td>2008-09-22T20:45:52.000</td>\n",
       "      <td>-1</td>\n",
       "      <td>NaN</td>\n",
       "      <td>1</td>\n",
       "      <td>{\"OriginalQuestionIds\":[7074],\"Voters\":[{\"Id\":...</td>\n",
       "    </tr>\n",
       "    <tr>\n",
       "      <th>33051</th>\n",
       "      <td>33051</td>\n",
       "      <td>1259929</td>\n",
       "      <td>10</td>\n",
       "      <td>121922</td>\n",
       "      <td>3f9a92cd-87dd-4ed1-98e4-72220e1b9972</td>\n",
       "      <td>2008-09-24T09:56:44.000</td>\n",
       "      <td>-1</td>\n",
       "      <td>NaN</td>\n",
       "      <td>2</td>\n",
       "      <td>{\"Voters\":[{\"Id\":342,\"DisplayName\":\"user342\"}]}</td>\n",
       "    </tr>\n",
       "  </tbody>\n",
       "</table>\n",
       "</div>"
      ],
      "text/plain": [
       "       Unnamed: 0       Id  PostHistoryTypeId  PostId  \\\n",
       "33047       33047  1259878                 10   96463   \n",
       "33048       33048  1259896                 10  101974   \n",
       "33049       33049  1259916                 10  113013   \n",
       "33050       33050  1259922                 10  116523   \n",
       "33051       33051  1259929                 10  121922   \n",
       "\n",
       "                               RevisionGUID             CreationDate  UserId  \\\n",
       "33047  acf21790-d5cf-4111-b43a-0fc252c68e53  2008-10-22T05:30:23.000      -1   \n",
       "33048  427a2219-6744-40fd-bba8-347457cfb23f  2008-09-26T18:19:33.000      -1   \n",
       "33049  fc2883cb-c2b3-4772-ba4d-5b7dd8ae0056  2008-12-27T06:18:31.000      -1   \n",
       "33050  65207d94-b481-41f6-abfb-0078ffdc3624  2008-09-22T20:45:52.000      -1   \n",
       "33051  3f9a92cd-87dd-4ed1-98e4-72220e1b9972  2008-09-24T09:56:44.000      -1   \n",
       "\n",
       "      UserDisplayName Comment  \\\n",
       "33047             NaN       2   \n",
       "33048             NaN       2   \n",
       "33049             NaN       2   \n",
       "33050             NaN       1   \n",
       "33051             NaN       2   \n",
       "\n",
       "                                                    Text  \n",
       "33047  {\"Voters\":[{\"Id\":13281,\"DisplayName\":\"user1328...  \n",
       "33048  {\"Voters\":[{\"Id\":7595,\"DisplayName\":\"user7595\"}]}  \n",
       "33049  {\"Voters\":[{\"Id\":19377,\"DisplayName\":\"user1937...  \n",
       "33050  {\"OriginalQuestionIds\":[7074],\"Voters\":[{\"Id\":...  \n",
       "33051    {\"Voters\":[{\"Id\":342,\"DisplayName\":\"user342\"}]}  "
      ]
     },
     "execution_count": 12,
     "metadata": {},
     "output_type": "execute_result"
    }
   ],
   "source": [
    "import pandas as pd\n",
    "df = pd.read_csv('PostHistory.csv')\n",
    "#df.head(25)\n",
    "rslt_df = df[df['PostHistoryTypeId'] == 10]\n",
    "rslt_df.head(5)"
   ]
  },
  {
   "cell_type": "code",
   "execution_count": 13,
   "metadata": {},
   "outputs": [
    {
     "data": {
      "text/plain": [
       "101    46.378417\n",
       "102    15.708891\n",
       "1       8.248025\n",
       "104     6.673571\n",
       "103     6.533137\n",
       "4       5.491815\n",
       "3       3.272398\n",
       "105     2.919687\n",
       "2       2.390351\n",
       "7       2.383709\n",
       "Name: Comment, dtype: float64"
      ]
     },
     "execution_count": 13,
     "metadata": {},
     "output_type": "execute_result"
    }
   ],
   "source": [
    "rslt_df['Comment'].value_counts(normalize=True)*100"
   ]
  },
  {
   "cell_type": "code",
   "execution_count": 14,
   "metadata": {},
   "outputs": [
    {
     "data": {
      "image/png": "[encoded data removed]",
      "text/plain": [
       "<Figure size 432x288 with 1 Axes>"
      ]
     },
     "metadata": {},
     "output_type": "display_data"
    }
   ],
   "source": [
    "import matplotlib.pyplot as plt\n",
    "\n",
    "labels = ['Duplicate','Off-topic','Exact Duplicate','Too broad','Unclear what youre asking','Not a real question','Subjective and argumentative',\n",
    "         'Primarily opinion-based','Off-topic','Too localized']\n",
    "sizes = ['46.378417','15.708891','8.248025','6.673571','6.533137','5.491815','3.272398','2.919687','2.390351','2.383709']\n",
    "colors = ['yellowgreen', 'lightgreen', 'darkgreen', 'gold', 'red', 'lightsalmon', 'darkred','black','white','blue']\n",
    "\n",
    "patches, texts = plt.pie(sizes, colors=colors, shadow=True, startangle=90)\n",
    "plt.legend(patches, labels, loc=\"best\")\n",
    "plt.axis('equal')\n",
    "plt.tight_layout()\n",
    "plt.show()"
   ]
  },
  {
   "cell_type": "code",
   "execution_count": null,
   "metadata": {},
   "outputs": [],
   "source": []
  }
 ],
 "metadata": {
  "kernelspec": {
   "display_name": "Python 3",
   "language": "python",
   "name": "python3"
  },
  "language_info": {
   "codemirror_mode": {
    "name": "ipython",
    "version": 3
   },
   "file_extension": ".py",
   "mimetype": "text/x-python",
   "name": "python",
   "nbconvert_exporter": "python",
   "pygments_lexer": "ipython3",
   "version": "3.8.5"
  }
 },
 "nbformat": 4,
 "nbformat_minor": 4
}
